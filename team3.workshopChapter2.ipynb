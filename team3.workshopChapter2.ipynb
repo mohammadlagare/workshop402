{
 "cells": [
  {
   "cell_type": "markdown",
   "id": "shaped-fitting",
   "metadata": {},
   "source": [
    "<div style=\"direction:ltr; color:blue; font-size:200%; text-align: center; font-weight: bold;\">\n",
    "\n",
    "<head> Workshop 2: Decision Making & Loops </head>\n",
    "    \n",
    "</div>"
   ]
  },
  {
   "cell_type": "markdown",
   "id": "informal-boulder",
   "metadata": {},
   "source": [
    "## \n",
    "<br>\n",
    "<div style=\"direction:rtl; color:blue; font-size:150%;\"> \n",
    "برنامه ای بنویسید که 5 عدد متوالی را از کاربر دریافت نموده و مشخص نماید ورودی کاربر زوج یا فرد است.\n",
    "</div>"
   ]
  },
  {
   "cell_type": "code",
   "execution_count": 1,
   "id": "2635c6f7",
   "metadata": {},
   "outputs": [
    {
     "name": "stdout",
     "output_type": "stream",
     "text": [
      "enter the first number: 7\n",
      "[7, 8, 9, 10, 11]\n",
      "odd\n",
      "even\n",
      "odd\n",
      "even\n",
      "odd\n"
     ]
    }
   ],
   "source": [
    "a =  int(input('enter the first number: '))\n",
    "b = list(range(a, a+5))\n",
    "print(b)\n",
    "for i in b:\n",
    "    if i % 2 == 0:\n",
    "        print('even')\n",
    "    else:\n",
    "        print('odd')"
   ]
  },
  {
   "cell_type": "markdown",
   "id": "further-tracker",
   "metadata": {},
   "source": [
    "## \n",
    "<br>\n",
    "<div style=\"direction:rtl; color:blue; font-size:150%;\"> \n",
    "برنامه ای بنویسید که از کاربر یک کلمه را دریافت نماید و مشخص کند کدامیک از کاراکترهای آن صدا دار و کدامیک بی صدا هستند. کاراکترهای صدا دار شامل e, a, i, o, u هستند\n",
    "</div>"
   ]
  },
  {
   "cell_type": "code",
   "execution_count": 2,
   "id": "128ebd34",
   "metadata": {},
   "outputs": [
    {
     "name": "stdout",
     "output_type": "stream",
     "text": [
      "enter a character: asemune abi\n",
      "seda dar\n",
      "bi seda\n",
      "seda dar\n",
      "bi seda\n",
      "seda dar\n",
      "bi seda\n",
      "seda dar\n",
      "bi seda\n",
      "seda dar\n",
      "bi seda\n",
      "seda dar\n"
     ]
    }
   ],
   "source": [
    "for character in input('enter a character: '):\n",
    "    if character.lower() in ['e', 'a', 'i', 'o', 'u']:\n",
    "        print('seda dar')\n",
    "    else:\n",
    "        print('bi seda')"
   ]
  },
  {
   "cell_type": "markdown",
   "id": "tough-burner",
   "metadata": {},
   "source": [
    "## \n",
    "<br>\n",
    "<div style=\"direction:rtl; color:blue; font-size:150%;\">\n",
    "برنامه ای بنویسید که مطابق جدول زیر شدت زلزه را توصیف نماید\n",
    "</div>\n",
    "\n",
    "<div>\n",
    "<br>\n",
    "<br>\n",
    "<img src=\"richter.png\" alt=\"Richter intensity\" width=\"500\" height=\"600\">\n",
    "</div>"
   ]
  },
  {
   "cell_type": "code",
   "execution_count": 3,
   "id": "a93d8bdb",
   "metadata": {},
   "outputs": [
    {
     "name": "stdout",
     "output_type": "stream",
     "text": [
      "Enter the earthquake intensity: 7.4\n",
      "it is major\n"
     ]
    }
   ],
   "source": [
    "e = float(input(\"Enter the earthquake intensity: \"))\n",
    "if e < 2.0:\n",
    "    print('it is micro')\n",
    "elif e > 2.0 and e < 3.0:\n",
    "    print('it is very minor')\n",
    "elif e > 3.0 and e < 4.0:\n",
    "    print('it is minor')\n",
    "elif e > 4.0 and e < 5.0:\n",
    "    print('it is light')\n",
    "elif e > 5.0 and e < 6.0:\n",
    "    print('it is moderate')\n",
    "elif e > 6.0 and e < 7.0:\n",
    "    print('it is strong')\n",
    "elif e > 7.0 and e < 8.0:\n",
    "    print('it is major')\n",
    "elif e > 8.0 and e < 10.0:\n",
    "    print('it is great')\n",
    "else:\n",
    "    print('it is meteoric')"
   ]
  },
  {
   "cell_type": "markdown",
   "id": "engaging-edmonton",
   "metadata": {},
   "source": [
    "## \n",
    "<br>\n",
    "<div style=\"direction:rtl; color:blue; font-size:150%;\">\n",
    "برنامه ای بنویسید که از کاربر تعدادی ورودی را دریافت نماید و دریافت ورودی از کاربر را تا زمان ورود کاراکتر e یا E ادامه دهد. سپس میانگین، ماکزیمم و مینیمم ورودی های کاربر را در خروجی نمایش دهد.\n",
    "</div>"
   ]
  },
  {
   "cell_type": "code",
   "execution_count": 66,
   "id": "9fed99a3",
   "metadata": {},
   "outputs": [
    {
     "name": "stdout",
     "output_type": "stream",
     "text": [
      "enter a number or e for exit: 45\n",
      "enter a number or e for exit: 65\n",
      "enter a number or e for exit: 7\n",
      "enter a number or e for exit: 4\n",
      "enter a number or e for exit: 3\n",
      "enter a number or e for exit: 8\n",
      "enter a number or e for exit: e\n",
      "maximum:  65\n",
      "minimum:  3\n",
      "average:  22.0\n"
     ]
    }
   ],
   "source": [
    "a = input('enter a number or e for exit: ')\n",
    "counter = 0\n",
    "total = 0\n",
    "maximum = int(a)\n",
    "minimum = int(a)\n",
    "while a.lower() != 'e':\n",
    "    if int(a) > maximum:\n",
    "        maximum = int(a)\n",
    "    if int(a) < minimum:\n",
    "        minimum = int(a)\n",
    "    total += int(a)\n",
    "    counter += 1\n",
    "    a = input('enter a number or e for exit: ')\n",
    "avarage = total / counter\n",
    "print('maximum: ', maximum)\n",
    "print('minimum: ', minimum)\n",
    "print('average: ', avarage)"
   ]
  },
  {
   "cell_type": "markdown",
   "id": "auburn-celebration",
   "metadata": {},
   "source": [
    "###### \n",
    "<br>\n",
    "<div style=\"direction:rtl; color:blue; font-size:150%;\">\n",
    "برنامه ای بنویسید شامل ده سطر و دو ستون، ستون اول دارای هدر سلسیوس و ستون دوم دارای هدر فارنهایت باشد. در هر سطر معادل سلسیوس و فارنهایت ده عدد تصائفی بین 0 تا صد درجه را نمایش دهد.\n",
    "</div>"
   ]
  },
  {
   "cell_type": "code",
   "execution_count": 23,
   "id": "4e22d5ca",
   "metadata": {},
   "outputs": [
    {
     "name": "stdout",
     "output_type": "stream",
     "text": [
      "45 113.0\n",
      "68 154.4\n",
      "7 44.6\n",
      "17 62.6\n",
      "61 141.8\n",
      "1 33.8\n",
      "44 111.2\n",
      "61 141.8\n",
      "35 95.0\n",
      "98 208.4\n"
     ]
    }
   ],
   "source": [
    "from random import randint\n",
    "degree = []\n",
    "for i in range(10):\n",
    "    degree = randint(0, 100)\n",
    "    j = 1.8 * degree + 32\n",
    "    print(degree, j)"
   ]
  },
  {
   "cell_type": "markdown",
   "id": "intermediate-reality",
   "metadata": {},
   "source": [
    "## \n",
    "<br>\n",
    "<div style=\"direction:rtl; color:blue; font-size:150%;\">\n",
    "برنامه ای بنویسید که کاربر رشته های باینری 9 بیتی را وارد کند و برنامه بررسی کند که آیا رشته باینری وارد شده even parity هست یا نه؟ \n",
    "\n",
    "در رشته های باینری even parity تعداد یک ها باید زوج باشد در اینصورت بیت نهم رشته باینری به گونه ای تنظیم می شود که این زوج بودن تعداد یک ها حفظ شود\n",
    "\n",
    "</div>\n",
    "<div style=\"direction:ltr; color:green; font-size:150%;\">\n",
    "<br>\n",
    "<br>\n",
    "\"111010101\" -> True even parity\n",
    "<br>\n",
    "\"010001111\" -> False\n",
    "<br>\n",
    "\"110000010\" -> False\n",
    "</div>"
   ]
  },
  {
   "cell_type": "code",
   "execution_count": 2,
   "id": "323ff80e",
   "metadata": {},
   "outputs": [
    {
     "name": "stdout",
     "output_type": "stream",
     "text": [
      "enter your binary number\n",
      "1\n",
      "1\n",
      "0\n",
      "0\n",
      "0\n",
      "1\n",
      "0\n",
      "1\n",
      "0\n",
      "true even parity\n"
     ]
    }
   ],
   "source": [
    "lst = []\n",
    "one = 0 \n",
    "print('enter your binary number')\n",
    "for i in range(9):\n",
    "    a = int(input())\n",
    "    if a == 1:\n",
    "        one += 1\n",
    "if one % 2 == 0:\n",
    "    print('true even parity')\n",
    "else:\n",
    "    print('false')"
   ]
  },
  {
   "cell_type": "markdown",
   "id": "quantitative-bracelet",
   "metadata": {},
   "source": [
    "## \n",
    "<br>\n",
    "<div style=\"direction:rtl; color:blue; font-size:150%;\">\n",
    "  می دانیم که هر عدد هر عدد بزرگتر و مساوی یک را می توان به صورت حاصلضرب اعداد اول نوشت. برنامه ای بنویسید که از ورودی یک عدد صحیح بزگتر از یک را دریافت کرده و آن را به اعداد اول تجزیه کند\n",
    "\n",
    "</div>\n"
   ]
  },
  {
   "cell_type": "code",
   "execution_count": 26,
   "id": "b98155a4",
   "metadata": {},
   "outputs": [
    {
     "name": "stdout",
     "output_type": "stream",
     "text": [
      "enter a number: 66\n",
      "2\n",
      "3\n",
      "11\n"
     ]
    }
   ],
   "source": [
    "n = int(input('enter a number: '))\n",
    "i = 2\n",
    "\n",
    "while n != 1:\n",
    "    a = n % i\n",
    "    if a == 0:\n",
    "        n /= i\n",
    "        print(i)\n",
    "    else:\n",
    "        i += 1"
   ]
  },
  {
   "cell_type": "markdown",
   "id": "sapphire-update",
   "metadata": {},
   "source": [
    "## \n",
    "<br>\n",
    "<div style=\"direction:rtl; color:blue; font-size:150%;\">\n",
    "برنامه ای بنویسید که پرتاب یک سکه را شبیه سازی کند. برای پرتاب سکه از کاربر تعداد دفعات پرتاب پرسیده می شود و سپس رشته ای به طول خواسته شده با ترکیب حروف H, T تولید می شود. حرف H نشان گر Head و T نشانگر Tail است   \n",
    "</div>\n"
   ]
  },
  {
   "cell_type": "code",
   "execution_count": 27,
   "id": "e613cbdc",
   "metadata": {
    "scrolled": true
   },
   "outputs": [
    {
     "name": "stdout",
     "output_type": "stream",
     "text": [
      "how many times do you wanna flip the coin? 5\n",
      "T\n",
      "T\n",
      "T\n",
      "T\n",
      "H\n"
     ]
    }
   ],
   "source": [
    "from random import randint\n",
    "\n",
    "n = int(input('how many times do you wanna flip the coin? '))\n",
    "\n",
    "for i in range(n):\n",
    "    coin = randint(0, 1)\n",
    "    \n",
    "    if coin == 0:\n",
    "        print(\"H\")\n",
    "    else:\n",
    "        print(\"T\")"
   ]
  },
  {
   "cell_type": "markdown",
   "id": "analyzed-rover",
   "metadata": {},
   "source": [
    "## \n",
    "<br>\n",
    "<div style=\"direction:rtl; color:blue; font-size:150%;\">\n",
    "برنامه ای بنویسید که از کاربر یک رشته را دریافت نموده و بگوید رشته ی ورودی پالیندروم هست یا خیر\n",
    "رشته پالیندروم رشته ای است که اگر کاراکترهای آن از چب به راست و یا راست به چپ خوانده شود رشته ای یکسان بدست بیاید\n",
    "</div>"
   ]
  },
  {
   "cell_type": "code",
   "execution_count": 5,
   "id": "05077e02",
   "metadata": {},
   "outputs": [
    {
     "name": "stdout",
     "output_type": "stream",
     "text": [
      "please enter your string: salamalas\n",
      "palindrome\n"
     ]
    }
   ],
   "source": [
    "a = input('please enter your string: ')\n",
    "if a == a[::-1]:\n",
    "    print('palindrome')\n",
    "else:\n",
    "    print('not a palindrome')"
   ]
  },
  {
   "cell_type": "markdown",
   "id": "associate-jones",
   "metadata": {},
   "source": [
    "## \n",
    "<br>\n",
    "<div style=\"direction:rtl; color:blue; font-size:150%;\">\n",
    "شبه کد زیر را به کمک زبان پایتون پیاده سازی نمائید.\n",
    "در این روش شرط خاتمه حلقه را برابر abs(guess * guess - x) < 0.001 \n",
    "</div>\n",
    "<br>\n",
    "<div style=\"direction:ltr; color:green; font-size:150%;\">\n",
    "Read x from the user <br>\n",
    "Initialize guess to x/2 <br>\n",
    "While guess is not good enough do <br>\n",
    "Update guess to be the average of guess and x/guess\n",
    "</div>"
   ]
  },
  {
   "cell_type": "code",
   "execution_count": 34,
   "id": "documentary-reproduction",
   "metadata": {},
   "outputs": [
    {
     "name": "stdout",
     "output_type": "stream",
     "text": [
      "guess a number: 100\n",
      "too high\n",
      "guess a number: 50\n",
      "too high\n",
      "guess a number: 25\n",
      "too small\n",
      "guess a number: 35\n",
      "too small\n",
      "guess a number: 40\n",
      "too high\n",
      "guess a number: 36\n",
      "YOU WIN!\n"
     ]
    }
   ],
   "source": [
    "from random import randint\n",
    "#ostad man dorost soalo motevajeh nashodam adade randomo beine 0 o 200 gereftam\n",
    "\n",
    "num = randint(0, 200)\n",
    "count = 0\n",
    "\n",
    "while count < 10 and a != num:\n",
    "    count += 1\n",
    "    a = int(input('guess a number: '))\n",
    "    \n",
    "    if a == num:\n",
    "        print('YOU WIN!')\n",
    "    elif num > a:\n",
    "        print('too small')\n",
    "    elif num < a:\n",
    "        print('too high')\n",
    "if count == 10:\n",
    "    print('you lose the number was: ', num)"
   ]
  }
 ],
 "metadata": {
  "kernelspec": {
   "display_name": "Python 3 (ipykernel)",
   "language": "python",
   "name": "python3"
  },
  "language_info": {
   "codemirror_mode": {
    "name": "ipython",
    "version": 3
   },
   "file_extension": ".py",
   "mimetype": "text/x-python",
   "name": "python",
   "nbconvert_exporter": "python",
   "pygments_lexer": "ipython3",
   "version": "3.9.7"
  },
  "toc": {
   "base_numbering": 1,
   "nav_menu": {},
   "number_sections": true,
   "sideBar": true,
   "skip_h1_title": false,
   "title_cell": "Table of Contents",
   "title_sidebar": "Contents",
   "toc_cell": false,
   "toc_position": {},
   "toc_section_display": true,
   "toc_window_display": false
  },
  "varInspector": {
   "cols": {
    "lenName": 16,
    "lenType": 16,
    "lenVar": 40
   },
   "kernels_config": {
    "python": {
     "delete_cmd_postfix": "",
     "delete_cmd_prefix": "del ",
     "library": "var_list.py",
     "varRefreshCmd": "print(var_dic_list())"
    },
    "r": {
     "delete_cmd_postfix": ") ",
     "delete_cmd_prefix": "rm(",
     "library": "var_list.r",
     "varRefreshCmd": "cat(var_dic_list()) "
    }
   },
   "types_to_exclude": [
    "module",
    "function",
    "builtin_function_or_method",
    "instance",
    "_Feature"
   ],
   "window_display": false
  }
 },
 "nbformat": 4,
 "nbformat_minor": 5
}
