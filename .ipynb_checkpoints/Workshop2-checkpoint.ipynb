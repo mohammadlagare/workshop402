{
 "cells": [
  {
   "cell_type": "markdown",
   "id": "shaped-fitting",
   "metadata": {},
   "source": [
    "<div style=\"direction:ltr; color:blue; font-size:200%; text-align: center; font-weight: bold;\">\n",
    "\n",
    "<head> Workshop 2: Decision Making & Loops </head>\n",
    "    \n",
    "</div>"
   ]
  },
  {
   "cell_type": "markdown",
   "id": "informal-boulder",
   "metadata": {},
   "source": [
    "## \n",
    "<br>\n",
    "<div style=\"direction:rtl; color:blue; font-size:150%;\"> \n",
    "برنامه ای بنویسید که 5 عدد متوالی را از کاربر دریافت نموده و مشخص نماید ورودی کاربر زوج یا فرد است.\n",
    "</div>"
   ]
  },
  {
   "cell_type": "code",
   "execution_count": 1,
   "id": "c59a5255",
   "metadata": {},
   "outputs": [
    {
     "name": "stdout",
     "output_type": "stream",
     "text": [
      "Enter number1 : 5\n",
      "5 is odd\n",
      "Enter number2 : 4\n",
      "4 is even\n",
      "Enter number3 : 3\n",
      "3 is odd\n",
      "Enter number4 : 2\n",
      "2 is even\n",
      "Enter number5 : 1\n",
      "1 is odd\n"
     ]
    }
   ],
   "source": [
    "#Exercize1\n",
    "\n",
    "counter = 1\n",
    "\n",
    "while counter <= 5 :\n",
    "    \n",
    "    number = int(input(f\"Enter number{counter} : \"))\n",
    "    \n",
    "    if(number % 2 == 0) :\n",
    "        \n",
    "        print(f\"{number} is even\")\n",
    "        \n",
    "    if(number % 2 == 1) :\n",
    "        \n",
    "        print(f\"{number} is odd\")\n",
    "    counter += 1    "
   ]
  },
  {
   "cell_type": "markdown",
   "id": "further-tracker",
   "metadata": {},
   "source": [
    "## \n",
    "<br>\n",
    "<div style=\"direction:rtl; color:blue; font-size:150%;\"> \n",
    "برنامه ای بنویسید که از کاربر یک کلمه را دریافت نماید و مشخص کند کدامیک از کاراکترهای آن صدا دار و کدامیک بی صدا هستند. کاراکترهای صدا دار شامل e, a, i, o, u هستند\n",
    "</div>"
   ]
  },
  {
   "cell_type": "code",
   "execution_count": 2,
   "id": "112c637b",
   "metadata": {},
   "outputs": [
    {
     "name": "stdout",
     "output_type": "stream",
     "text": [
      "Type word : anita\n",
      "charecter1 is vowel\n",
      "charecter2 is consonant\n",
      "charecter3 is vowel\n",
      "charecter4 is consonant\n",
      "charecter5 is vowel\n"
     ]
    }
   ],
   "source": [
    "#exercize2\n",
    "\n",
    "word = input(\"Type word : \")\n",
    "\n",
    "for index , character in enumerate(word) :\n",
    "    \n",
    "    if character == 'a' or character == 'A' :\n",
    "        \n",
    "        print(f\"charecter{index + 1} is vowel\")\n",
    "        \n",
    "    elif character == 'e' or character == 'E' :\n",
    "        \n",
    "        print(f\"charecter{index + 1} is vowel\")\n",
    "        \n",
    "    elif character == 'i' or character == 'I' :\n",
    "        \n",
    "        print(f\"charecter{index + 1} is vowel\")\n",
    "        \n",
    "    elif character == 'o' or character == 'O' :\n",
    "        \n",
    "        print(f\"charecter{index + 1} is vowel\")\n",
    "        \n",
    "    elif character == 'u' or character == 'U' :\n",
    "        \n",
    "        print(f\"charecter{index + 1} is vowel\")\n",
    "        \n",
    "    else :\n",
    "        \n",
    "        print(f\"charecter{index + 1} is consonant\")"
   ]
  },
  {
   "cell_type": "markdown",
   "id": "tough-burner",
   "metadata": {},
   "source": [
    "## \n",
    "<br>\n",
    "<div style=\"direction:rtl; color:blue; font-size:150%;\">\n",
    "برنامه ای بنویسید که مطابق جدول زیر شدت زلزه را توصیف نماید\n",
    "</div>\n",
    "\n",
    "<div>\n",
    "<br>\n",
    "<br>\n",
    "<img src=\"richter.png\" alt=\"Richter intensity\" width=\"500\" height=\"600\">\n",
    "</div>"
   ]
  },
  {
   "cell_type": "code",
   "execution_count": 3,
   "id": "b567d5ad",
   "metadata": {},
   "outputs": [
    {
     "name": "stdout",
     "output_type": "stream",
     "text": [
      "Enter earthquake_magnitude : 5.89\n",
      "Earthquake is Moderate\n"
     ]
    }
   ],
   "source": [
    "#Exercize3\n",
    "\n",
    "earthquake_magnitude = float(input(\"Enter earthquake_magnitude : \"))\n",
    "\n",
    "if earthquake_magnitude < 2 :\n",
    "    \n",
    "    print(\"Earthquake is Micro\")\n",
    "    \n",
    "elif earthquake_magnitude >= 2 and earthquake_magnitude < 3 :\n",
    "    \n",
    "    print(\"Earthquake is Very Minor\")    \n",
    "\n",
    "elif earthquake_magnitude >= 3 and earthquake_magnitude < 4 :\n",
    "    \n",
    "    print(\"Earthquake is Minor\")    \n",
    "\n",
    "elif earthquake_magnitude >= 4 and earthquake_magnitude < 5 :\n",
    "    \n",
    "    print(\"Earthquake is Light\")    \n",
    "    \n",
    "elif earthquake_magnitude >= 5 and earthquake_magnitude < 6 :\n",
    "    \n",
    "    print(\"Earthquake is Moderate\")  \n",
    "\n",
    "elif earthquake_magnitude >= 6 and earthquake_magnitude < 7 :\n",
    "    \n",
    "    print(\"Earthquake is Strong\")\n",
    "\n",
    "elif earthquake_magnitude >= 7 and earthquake_magnitude < 8 :\n",
    "    \n",
    "    print(\"Earthquake is Major\")  \n",
    "\n",
    "elif earthquake_magnitude >= 8 and earthquake_magnitude < 10 :\n",
    "    \n",
    "    print(\"Earthquake is Great\")\n",
    "\n",
    "elif earthquake_magnitude >= 10 :   \n",
    "\n",
    "     print(\"Earthquake is Metrotic\")             "
   ]
  },
  {
   "cell_type": "markdown",
   "id": "engaging-edmonton",
   "metadata": {},
   "source": [
    "## \n",
    "<br>\n",
    "<div style=\"direction:rtl; color:blue; font-size:150%;\">\n",
    "برنامه ای بنویسید که از کاربر تعدادی ورودی را دریافت نماید و دریافت ورودی از کاربر را تا زمان ورود کاراکتر e یا E ادامه دهد. سپس میانگین، ماکزیمم و مینیمم ورودی های کاربر را در خروجی نمایش دهد.\n",
    "</div>"
   ]
  },
  {
   "cell_type": "code",
   "execution_count": 3,
   "id": "4645b9da",
   "metadata": {},
   "outputs": [
    {
     "name": "stdout",
     "output_type": "stream",
     "text": [
      "Enter number1(type 'e' or 'E' to end) : 4 \n",
      "Enter number2(type 'e' or 'E' to end) : -7\n",
      "Enter number3(type 'e' or 'E' to end) : 10\n",
      "Enter number4(type 'e' or 'E' to end) : 3\n",
      "Enter number5(type 'e' or 'E' to end) : e\n",
      "Average = 2.5 Maximum = 10 Minimum = -7\n"
     ]
    }
   ],
   "source": [
    "#Exercize4\n",
    "\n",
    "maximum = 0\n",
    "\n",
    "minimum = 0\n",
    "\n",
    "counter = 0\n",
    "\n",
    "total = 0\n",
    "\n",
    "number = input(f\"Enter number{counter + 1}(type 'e' or 'E' to end) : \")\n",
    "\n",
    "while number != 'e' and number != 'E' :\n",
    "    \n",
    "    total += int(number)\n",
    "    \n",
    "    counter += 1\n",
    "    \n",
    "    if int(number) >= maximum :\n",
    "        \n",
    "        maximum = int(number)\n",
    "        \n",
    "    if int(number) <= minimum :\n",
    "        \n",
    "        minimum = int(number)\n",
    "        \n",
    "    number = input(f\"Enter number{counter + 1}(type 'e' or 'E' to end) : \")\n",
    "    \n",
    "average = total / counter\n",
    "\n",
    "print(\"Average =\" , average , \"Maximum =\" , maximum , \"Minimum =\" , minimum)"
   ]
  },
  {
   "cell_type": "markdown",
   "id": "auburn-celebration",
   "metadata": {},
   "source": [
    "## \n",
    "<br>\n",
    "<div style=\"direction:rtl; color:blue; font-size:150%;\">\n",
    "برنامه ای بنویسید شامل ده سطر و دو ستون، ستون اول دارای هدر سلسیوس و ستون دوم دارای هدر فارنهایت باشد. در هر سطر معادل سلسیوس و فارنهایت ده عدد تصائفی بین 0 تا صد درجه را نمایش دهد.\n",
    "</div>"
   ]
  },
  {
   "cell_type": "code",
   "execution_count": 4,
   "id": "e1ee3989",
   "metadata": {},
   "outputs": [
    {
     "name": "stdout",
     "output_type": "stream",
     "text": [
      "18  64.40\n",
      "59  138.20\n",
      "88  190.40\n",
      "82  179.60\n",
      "64  147.20\n",
      "78  172.40\n",
      "53  127.40\n",
      "23  73.40\n",
      "65  149.00\n",
      "10  50.00\n"
     ]
    }
   ],
   "source": [
    "#Exercize5\n",
    "\n",
    "from random import randint\n",
    "\n",
    "for i in range(0 , 10) :\n",
    "    \n",
    "    celsius = randint(0 , 100)\n",
    "    \n",
    "    fahrenheit = 1.8 * celsius + 32\n",
    "    \n",
    "    print(celsius , end = '')\n",
    "    \n",
    "    print(f\" {fahrenheit : 0.2f}\")   "
   ]
  },
  {
   "cell_type": "markdown",
   "id": "intermediate-reality",
   "metadata": {},
   "source": [
    "## \n",
    "<br>\n",
    "<div style=\"direction:rtl; color:blue; font-size:150%;\">\n",
    "برنامه ای بنویسید که کاربر رشته های باینری 9 بیتی را وارد کند و برنامه بررسی کند که آیا رشته باینری وارد شده even parity هست یا نه؟ \n",
    "\n",
    "در رشته های باینری even parity تعداد یک ها باید زوج باشد در اینصورت بیت نهم رشته باینری به گونه ای تنظیم می شود که این زوج بودن تعداد یک ها حفظ شود\n",
    "\n",
    "</div>\n",
    "<div style=\"direction:ltr; color:green; font-size:150%;\">\n",
    "<br>\n",
    "<br>\n",
    "\"111010101\" -> True even parity\n",
    "<br>\n",
    "\"010001111\" -> False\n",
    "<br>\n",
    "\"110000010\" -> False\n",
    "</div>"
   ]
  },
  {
   "cell_type": "code",
   "execution_count": 5,
   "id": "aba932e7",
   "metadata": {},
   "outputs": [
    {
     "name": "stdout",
     "output_type": "stream",
     "text": [
      "Enter 9-byte binary string : 111111000\n",
      "It is even patity\n"
     ]
    }
   ],
   "source": [
    "#Exercize6\n",
    "\n",
    "nine_byte_binary_string = input(\"Enter 9-byte binary string : \")\n",
    "\n",
    "counter_of_1 = 0\n",
    "\n",
    "for number in nine_byte_binary_string :\n",
    "    \n",
    "    if number == '1' :\n",
    "        \n",
    "        counter_of_1 += 1\n",
    "\n",
    "if counter_of_1 % 2 == 0 :\n",
    "    \n",
    "    print(\"It is even patity\")\n",
    "    \n",
    "else :\n",
    "    \n",
    "    print(\"It is not even patity\")"
   ]
  },
  {
   "cell_type": "markdown",
   "id": "quantitative-bracelet",
   "metadata": {},
   "source": [
    "## \n",
    "<br>\n",
    "<div style=\"direction:rtl; color:blue; font-size:150%;\">\n",
    "  می دانیم که هر عدد هر عدد بزرگتر و مساوی یک را می توان به صورت حاصلضرب اعداد اول نوشت. برنامه ای بنویسید که از ورودی یک عدد صحیح بزگتر از یک را دریافت کرده و آن را به اعداد اول تجزیه کند\n",
    "\n",
    "</div>\n"
   ]
  },
  {
   "cell_type": "code",
   "execution_count": 6,
   "id": "66be2b3c",
   "metadata": {},
   "outputs": [
    {
     "name": "stdout",
     "output_type": "stream",
     "text": [
      "Enter your number : 46\n",
      "2\n",
      "23.0\n"
     ]
    }
   ],
   "source": [
    "#Exercize7\n",
    "\n",
    "import math \n",
    "  \n",
    "def primeFactors(n): \n",
    "      \n",
    "    while n % 2 == 0 : \n",
    "        \n",
    "        print (2), \n",
    "        \n",
    "        n = n / 2\n",
    "          \n",
    "    for i in range(3 , int(math.sqrt(n))+1,2) : \n",
    "           \n",
    "        while n % i == 0: \n",
    "            print (i) \n",
    "            n = n / i \n",
    "              \n",
    "    if n > 2 : \n",
    "        print (n) \n",
    "          \n",
    "  \n",
    "n = int(input('Enter your number : '))\n",
    "primeFactors(n) \n",
    "\n"
   ]
  },
  {
   "cell_type": "raw",
   "id": "43c64707",
   "metadata": {},
   "source": [
    "# \n",
    "<br>\n",
    "<div style=\"direction:rtl; color:blue; font-size:150%;\">\n",
    "برنامه ای بنویسید که پرتاب یک سکه را شبیه سازی کند. برای پرتاب سکه از کاربر تعداد دفعات پرتاب پرسیده می شود و سپس رشته ای به طول خواسته شده با ترکیب حروف H, T تولید می شود. حرف H نشان گر Head و T نشانگر Tail است   \n",
    "</div>\n"
   ]
  },
  {
   "cell_type": "code",
   "execution_count": null,
   "id": "ebe94fdb",
   "metadata": {},
   "outputs": [],
   "source": [
    "#Exercize8\n",
    "\n",
    "from random import randint\n",
    "\n",
    "nthrow = int(input(\"Enter how many times do you want to throw : \"))\n",
    "\n",
    "for i in range(0 , nthrow) :\n",
    "    \n",
    "    throwing_coin = randint(1 , 2) \n",
    "   \n",
    "    if throwing_coin == 1 :\n",
    "       \n",
    "       on_the_coin = 'H'\n",
    "       \n",
    "    if throwing_coin == 2 :\n",
    "       \n",
    "       on_the_coin = 'T'\n",
    "\n",
    "    print(on_the_coin , end = '')"
   ]
  },
  {
   "cell_type": "markdown",
   "id": "analyzed-rover",
   "metadata": {},
   "source": [
    "## \n",
    "<br>\n",
    "<div style=\"direction:rtl; color:blue; font-size:150%;\">\n",
    "برنامه ای بنویسید که از کاربر یک رشته را دریافت نموده و بگوید رشته ی ورودی پالیندروم هست یا خیر\n",
    "رشته پالیندروم رشته ای است که اگر کاراکترهای آن از چب به راست و یا راست به چپ خوانده شود رشته ای یکسان بدست بیاید\n",
    "</div>"
   ]
  },
  {
   "cell_type": "code",
   "execution_count": null,
   "id": "fa8c1992",
   "metadata": {},
   "outputs": [],
   "source": [
    "#Exercize9\n",
    "\n",
    "string = input(\"Type string : \")\n",
    "\n",
    "string_list = []\n",
    "\n",
    "for character in string :\n",
    "    \n",
    "    string_list.append(character)\n",
    "\n",
    "reverse_string_list = []\n",
    " \n",
    "counter = len(string) -1\n",
    "\n",
    "while counter >= 0 :\n",
    "    \n",
    "    reverse_string_list.append(string[counter])\n",
    "    \n",
    "    counter -= 1\n",
    "    \n",
    "if reverse_string_list == string_list :\n",
    "    \n",
    "    print(\"String is palindrome\")\n",
    "      \n",
    "else :\n",
    "    \n",
    "    print(\"String is not palindrome\")"
   ]
  },
  {
   "cell_type": "markdown",
   "id": "associate-jones",
   "metadata": {},
   "source": [
    "## \n",
    "<br>\n",
    "<div style=\"direction:rtl; color:blue; font-size:150%;\">\n",
    "شبه کد زیر را به کمک زبان پایتون پیاده سازی نمائید.\n",
    "در این روش شرط خاتمه حلقه را برابر abs(guess * guess - x) < 0.001 \n",
    "</div>\n",
    "<br>\n",
    "<div style=\"direction:ltr; color:green; font-size:150%;\">\n",
    "Read x from the user <br>\n",
    "Initialize guess to x/2 <br>\n",
    "While guess is not good enough do <br>\n",
    "Update guess to be the average of guess and x/guess\n",
    "</div>"
   ]
  },
  {
   "cell_type": "code",
   "execution_count": null,
   "id": "documentary-reproduction",
   "metadata": {},
   "outputs": [],
   "source": [
    "#Exercize10\n",
    "\n",
    "x = float(input(\"Enter x : \"))\n",
    "\n",
    "guess = x / 2\n",
    "    \n",
    "while abs(guess * guess - x) < 0.001 :\n",
    "    \n",
    "    print(\"Guess is not good enough\")\n",
    "    \n",
    "    gues = (guess + x / guess) / 2\n",
    "    \n",
    "print(\"Guess is correct\")"
   ]
  },
  {
   "cell_type": "code",
   "execution_count": null,
   "id": "19dd8380",
   "metadata": {},
   "outputs": [],
   "source": []
  }
 ],
 "metadata": {
  "kernelspec": {
   "display_name": "Python 3 (ipykernel)",
   "language": "python",
   "name": "python3"
  },
  "language_info": {
   "codemirror_mode": {
    "name": "ipython",
    "version": 3
   },
   "file_extension": ".py",
   "mimetype": "text/x-python",
   "name": "python",
   "nbconvert_exporter": "python",
   "pygments_lexer": "ipython3",
   "version": "3.9.7"
  },
  "toc": {
   "base_numbering": 1,
   "nav_menu": {},
   "number_sections": true,
   "sideBar": true,
   "skip_h1_title": false,
   "title_cell": "Table of Contents",
   "title_sidebar": "Contents",
   "toc_cell": false,
   "toc_position": {},
   "toc_section_display": true,
   "toc_window_display": false
  },
  "varInspector": {
   "cols": {
    "lenName": 16,
    "lenType": 16,
    "lenVar": 40
   },
   "kernels_config": {
    "python": {
     "delete_cmd_postfix": "",
     "delete_cmd_prefix": "del ",
     "library": "var_list.py",
     "varRefreshCmd": "print(var_dic_list())"
    },
    "r": {
     "delete_cmd_postfix": ") ",
     "delete_cmd_prefix": "rm(",
     "library": "var_list.r",
     "varRefreshCmd": "cat(var_dic_list()) "
    }
   },
   "types_to_exclude": [
    "module",
    "function",
    "builtin_function_or_method",
    "instance",
    "_Feature"
   ],
   "window_display": false
  }
 },
 "nbformat": 4,
 "nbformat_minor": 5
}
