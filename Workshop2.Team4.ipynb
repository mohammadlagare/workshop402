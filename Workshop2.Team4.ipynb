{
 "cells": [
  {
   "cell_type": "markdown",
   "id": "shaped-fitting",
   "metadata": {},
   "source": [
    "<div style=\"direction:ltr; color:blue; font-size:200%; text-align: center; font-weight: bold;\">\n",
    "\n",
    "<head> Workshop 2: Decision Making & Loops </head>\n",
    "    \n",
    "</div>"
   ]
  },
  {
   "cell_type": "markdown",
   "id": "informal-boulder",
   "metadata": {},
   "source": [
    "## \n",
    "<br>\n",
    "<div style=\"direction:rtl; color:blue; font-size:150%;\"> \n",
    "برنامه ای بنویسید که 5 عدد متوالی را از کاربر دریافت نموده و مشخص نماید ورودی کاربر زوج یا فرد است.\n",
    "</div>"
   ]
  },
  {
   "cell_type": "code",
   "execution_count": 2,
   "id": "03881932",
   "metadata": {},
   "outputs": [
    {
     "name": "stdout",
     "output_type": "stream",
     "text": [
      "The number is Even.\n",
      "The number is Odd.\n",
      "The number is Even.\n",
      "The number is Odd.\n",
      "The number is Odd.\n"
     ]
    }
   ],
   "source": [
    "for i in range(5):\n",
    "    number = int(input(\"Enter the number you considered: \"))\n",
    "    if number % 2 == 0:\n",
    "        print(\"The number is Even.\")\n",
    "    else:\n",
    "        print(\"The number is Odd.\")    "
   ]
  },
  {
   "cell_type": "markdown",
   "id": "further-tracker",
   "metadata": {},
   "source": [
    "## \n",
    "<br>\n",
    "<div style=\"direction:rtl; color:blue; font-size:150%;\"> \n",
    "برنامه ای بنویسید که از کاربر یک کلمه را دریافت نماید و مشخص کند کدامیک از کاراکترهای آن صدا دار و کدامیک بی صدا هستند. کاراکترهای صدا دار شامل e, a, i, o, u هستند\n",
    "</div>"
   ]
  },
  {
   "cell_type": "code",
   "execution_count": 7,
   "id": "b2f5a917",
   "metadata": {},
   "outputs": [
    {
     "name": "stdout",
     "output_type": "stream",
     "text": [
      "The word has vowels.\n"
     ]
    }
   ],
   "source": [
    "name = \"Farhoor\"\n",
    "\n",
    "for i in range(len(name)):\n",
    "    if name[i] == \"a\" or \"A\" or \"E\" or \"e\" or \"I\" or \"i\" or \"O\" or \"o\" or \"U\" or \"u\" :\n",
    "        print(\"The word has vowels.\")\n",
    "        break\n",
    "    else :\n",
    "        print(\"The word doesn't have any vowels\")\n",
    "    i += 1        "
   ]
  },
  {
   "cell_type": "markdown",
   "id": "tough-burner",
   "metadata": {},
   "source": [
    "## \n",
    "<br>\n",
    "<div style=\"direction:rtl; color:blue; font-size:150%;\">\n",
    "برنامه ای بنویسید که مطابق جدول زیر شدت زلزه را توصیف نماید\n",
    "</div>\n",
    "\n",
    "<div>\n",
    "<br>\n",
    "<br>\n",
    "<img src=\"richter.png\" alt=\"Richter intensity\" width=\"500\" height=\"600\">\n",
    "</div>"
   ]
  },
  {
   "cell_type": "code",
   "execution_count": 4,
   "id": "0919d1ac",
   "metadata": {},
   "outputs": [
    {
     "name": "stdout",
     "output_type": "stream",
     "text": [
      "The erthquak is Moderate\n"
     ]
    }
   ],
   "source": [
    "magnitude = float(input(\"Enter the magnitude: \"))\n",
    "\n",
    "if magnitude < 2.0:\n",
    "    print(\"The erthquak is Micro\")\n",
    "elif magnitude > 2.0 and magnitude < 3.0 :    \n",
    "    print(\"The erthquak is very minor\")\n",
    "elif magnitude > 3.0 and magnitude < 4.0 :\n",
    "    print(\"The erthquak is Minor\")\n",
    "elif magnitude > 4.0 and magnitude < 5.0 :\n",
    "    print(\"The erthquak is Light\")\n",
    "elif magnitude > 5.0 and magnitude < 6.0 :\n",
    "    print(\"The erthquak is Moderate\")\n",
    "elif magnitude > 6.0 and magnitude < 7.0 :\n",
    "    print(\"The erthquak is Strong\")\n",
    "elif magnitude > 7.0 and magnitude < 8.0 :\n",
    "    print(\"The erthquak is Major\")\n",
    "elif magnitude > 8.0 and magnitude < 10.0 :\n",
    "    print(\"The erthquak is Great\")\n",
    "elif magnitude > 10.0 :\n",
    "    print(\"The erthquak is Meteoric\")                           "
   ]
  },
  {
   "cell_type": "markdown",
   "id": "engaging-edmonton",
   "metadata": {},
   "source": [
    "## \n",
    "<br>\n",
    "<div style=\"direction:rtl; color:blue; font-size:150%;\">\n",
    "برنامه ای بنویسید که از کاربر تعدادی ورودی را دریافت نماید و دریافت ورودی از کاربر را تا زمان ورود کاراکتر e یا E ادامه دهد. سپس میانگین، ماکزیمم و مینیمم ورودی های کاربر را در خروجی نمایش دهد.\n",
    "</div>"
   ]
  },
  {
   "cell_type": "code",
   "execution_count": 20,
   "id": "be1dfc97",
   "metadata": {},
   "outputs": [
    {
     "name": "stdout",
     "output_type": "stream",
     "text": [
      "The list is:  ['12', '34', '23', '56']\n",
      "The mode is:  31.25\n",
      "The maximum is:  56\n",
      "The minimum is:  12\n"
     ]
    }
   ],
   "source": [
    "user_input = input(\"Enter numbers you have in mind: \")\n",
    "user_list = user_input.split()\n",
    "print(\"The list is: \", user_list)\n",
    "\n",
    "for i in range(len(user_list)) :\n",
    "    user_list[i] = int(user_list[i])\n",
    "print(\"The mode is: \", sum(user_list) / len(user_list))\n",
    "print(\"The maximum is: \", max(user_list))\n",
    "print(\"The minimum is: \", min(user_list))    "
   ]
  },
  {
   "cell_type": "markdown",
   "id": "auburn-celebration",
   "metadata": {},
   "source": [
    "## \n",
    "<br>\n",
    "<div style=\"direction:rtl; color:blue; font-size:150%;\">\n",
    "برنامه ای بنویسید شامل ده سطر و دو ستون، ستون اول دارای هدر سلسیوس و ستون دوم دارای هدر فارنهایت باشد. در هر سطر معادل سلسیوس و فارنهایت ده عدد تصائفی بین 0 تا صد درجه را نمایش دهد.\n",
    "</div>"
   ]
  },
  {
   "cell_type": "code",
   "execution_count": 46,
   "id": "bc3e57c0",
   "metadata": {},
   "outputs": [
    {
     "name": "stdout",
     "output_type": "stream",
     "text": [
      "Fah  Cel\n",
      "45 7.222222222222222\n",
      "67 19.444444444444443\n",
      "76 24.444444444444443\n",
      "53 11.666666666666666\n",
      "98 36.666666666666664\n",
      "24 -4.444444444444445\n",
      "14 -10.0\n",
      "59 15.0\n",
      "51 10.555555555555555\n",
      "19 -7.222222222222222\n"
     ]
    }
   ],
   "source": [
    "fah = input(\"Enter the the degree in farenheit: \")\n",
    "fah_list = fah.split()\n",
    "for i in range(len(fah_list)) :\n",
    "    fah_list[i] = int(fah_list[i])\n",
    "    \n",
    "cel_list = []    \n",
    "for i in range(len(fah_list)) :\n",
    "    item = (fah_list[i] - 32)/1.8\n",
    "    cel_list.append(item)\n",
    " \n",
    "\n",
    "print(\"Fah \", \"Cel\")      \n",
    "\n",
    "for i in range(len(fah_list)):\n",
    "    for j in range(len(cel_list)) :\n",
    "        if i == 1:\n",
    "            j += 1\n",
    "        elif i == 2:\n",
    "            j += 2\n",
    "        elif i == 3:\n",
    "            j += 3\n",
    "        elif i == 4:\n",
    "            j += 4\n",
    "        elif i == 5:\n",
    "            j += 5\n",
    "        elif i == 6:\n",
    "            j += 6\n",
    "        elif i == 7:\n",
    "            j += 7\n",
    "        elif i == 8:\n",
    "            j += 8\n",
    "        elif i == 9:\n",
    "            j += 9                                \n",
    "        print(fah_list[i], cel_list[j])\n",
    "        break"
   ]
  },
  {
   "cell_type": "markdown",
   "id": "intermediate-reality",
   "metadata": {},
   "source": [
    "## \n",
    "<br>\n",
    "<div style=\"direction:rtl; color:blue; font-size:150%;\">\n",
    "برنامه ای بنویسید که کاربر رشته های باینری 9 بیتی را وارد کند و برنامه بررسی کند که آیا رشته باینری وارد شده even parity هست یا نه؟ \n",
    "\n",
    "در رشته های باینری even parity تعداد یک ها باید زوج باشد در اینصورت بیت نهم رشته باینری به گونه ای تنظیم می شود که این زوج بودن تعداد یک ها حفظ شود\n",
    "\n",
    "</div>\n",
    "<div style=\"direction:ltr; color:green; font-size:150%;\">\n",
    "<br>\n",
    "<br>\n",
    "\"111010101\" -> True even parity\n",
    "<br>\n",
    "\"010001111\" -> False\n",
    "<br>\n",
    "\"110000010\" -> False\n",
    "</div>"
   ]
  },
  {
   "cell_type": "code",
   "execution_count": 50,
   "id": "75083bef",
   "metadata": {},
   "outputs": [
    {
     "name": "stdout",
     "output_type": "stream",
     "text": [
      "Even Parity\n"
     ]
    }
   ],
   "source": [
    "x = int(input(\"Enter the binary string: \"))\n",
    "if x % 2 == 0:\n",
    "    print(\"Even Parity\")\n",
    "else:\n",
    "    print(\"Odd Parity\")      "
   ]
  },
  {
   "cell_type": "markdown",
   "id": "quantitative-bracelet",
   "metadata": {},
   "source": [
    "## \n",
    "<br>\n",
    "<div style=\"direction:rtl; color:blue; font-size:150%;\">\n",
    "  می دانیم که هر عدد هر عدد بزرگتر و مساوی یک را می توان به صورت حاصلضرب اعداد اول نوشت. برنامه ای بنویسید که از ورودی یک عدد صحیح بزگتر از یک را دریافت کرده و آن را به اعداد اول تجزیه کند\n",
    "\n",
    "</div>\n"
   ]
  },
  {
   "cell_type": "code",
   "execution_count": 52,
   "id": "34f67ff5",
   "metadata": {},
   "outputs": [
    {
     "name": "stdout",
     "output_type": "stream",
     "text": [
      "11\n",
      "13.0\n"
     ]
    }
   ],
   "source": [
    "import math\n",
    "def primefactors(n):\n",
    "   while n % 2 == 0:\n",
    "      print (2),\n",
    "      n = n / 2\n",
    "    \n",
    "   for i in range(3,int(math.sqrt(n))+1,2):\n",
    "     \n",
    "      while (n % i == 0):\n",
    "         print (i)\n",
    "         n = n / i\n",
    "    \n",
    "   if n > 2:\n",
    "      print (n)\n",
    " \n",
    "n = int(input(\"Enter the number for calculating the prime factors :\\n\"))\n",
    "primefactors(n)                    "
   ]
  },
  {
   "cell_type": "markdown",
   "id": "sapphire-update",
   "metadata": {},
   "source": [
    "## \n",
    "<br>\n",
    "<div style=\"direction:rtl; color:blue; font-size:150%;\">\n",
    "برنامه ای بنویسید که پرتاب یک سکه را شبیه سازی کند. برای پرتاب سکه از کاربر تعداد دفعات پرتاب پرسیده می شود و سپس رشته ای به طول خواسته شده با ترکیب حروف H, T تولید می شود. حرف H نشان گر Head و T نشانگر Tail است   \n",
    "</div>\n"
   ]
  },
  {
   "cell_type": "code",
   "execution_count": 57,
   "id": "84aa3a17",
   "metadata": {},
   "outputs": [
    {
     "name": "stdout",
     "output_type": "stream",
     "text": [
      "H\n",
      "H\n",
      "H\n",
      "T\n"
     ]
    }
   ],
   "source": [
    "import random\n",
    "\n",
    "def cointoss():\n",
    "    return random.choice([\"H\", \"T\"])\n",
    "user = int(input(\"Enter the times you wanna toss the coin: \"))\n",
    "for i in range(user) :\n",
    "    toss = cointoss()\n",
    "    print(toss)"
   ]
  },
  {
   "cell_type": "markdown",
   "id": "analyzed-rover",
   "metadata": {},
   "source": [
    "## \n",
    "<br>\n",
    "<div style=\"direction:rtl; color:blue; font-size:150%;\">\n",
    "برنامه ای بنویسید که از کاربر یک رشته را دریافت نموده و بگوید رشته ی ورودی پالیندروم هست یا خیر\n",
    "رشته پالیندروم رشته ای است که اگر کاراکترهای آن از چب به راست و یا راست به چپ خوانده شود رشته ای یکسان بدست بیاید\n",
    "</div>"
   ]
  },
  {
   "cell_type": "code",
   "execution_count": 59,
   "id": "a5811a62",
   "metadata": {},
   "outputs": [
    {
     "name": "stdout",
     "output_type": "stream",
     "text": [
      "Yes\n"
     ]
    }
   ],
   "source": [
    "def isPalindrome(s):\n",
    "\treturn s == s[::-1]\n",
    "\n",
    "s = \"malayalam\"\n",
    "ans = isPalindrome(s)\n",
    "\n",
    "if ans:\n",
    "\tprint(\"Yes\")\n",
    "else:\n",
    "\tprint(\"No\")\n"
   ]
  },
  {
   "cell_type": "markdown",
   "id": "associate-jones",
   "metadata": {},
   "source": [
    "## \n",
    "<br>\n",
    "<div style=\"direction:rtl; color:blue; font-size:150%;\">\n",
    "شبه کد زیر را به کمک زبان پایتون پیاده سازی نمائید.\n",
    "در این روش شرط خاتمه حلقه را برابر abs(guess * guess - x) < 0.001 \n",
    "</div>\n",
    "<br>\n",
    "<div style=\"direction:ltr; color:green; font-size:150%;\">\n",
    "Read x from the user <br>\n",
    "Initialize guess to x/2 <br>\n",
    "While guess is not good enough do <br>\n",
    "Update guess to be the average of guess and x/guess\n",
    "</div>"
   ]
  },
  {
   "cell_type": "code",
   "execution_count": 58,
   "id": "documentary-reproduction",
   "metadata": {},
   "outputs": [
    {
     "name": "stdout",
     "output_type": "stream",
     "text": [
      "Guess the randomly generated number from 1 to 100\n",
      "-> Your number is less than the random number\n",
      "-> Your number is less than the random number\n",
      "-> Your number is greater than the random number\n",
      "-> Your number is greater than the random number\n",
      "-> Your number is greater than the random number\n",
      "-> Hurray! You got it in 6 steps!\n"
     ]
    }
   ],
   "source": [
    "import random\n",
    "\n",
    "\n",
    "class NumberGuessingGame:\n",
    "\n",
    "    def __init__(self):\n",
    "        self.LOWER = 1\n",
    "        self.HIGHER = 100\n",
    "\n",
    "    def get_random_number(self):\n",
    "        return random.randint(self.LOWER, self.HIGHER)\n",
    "\n",
    "    def start(self):\n",
    "        random_number = self.get_random_number()\n",
    "\n",
    "        print(\n",
    "            f\"Guess the randomly generated number from {self.LOWER} to {self.HIGHER}\")\n",
    "\n",
    "        chances = 0\n",
    "        while True:\n",
    "            user_number = int(input(\"Enter the guessed number: \"))\n",
    "            if user_number == random_number:\n",
    "                print(\n",
    "                    f\"-> Hurray! You got it in {chances + 1} step{'s' if chances > 1 else ''}!\")\n",
    "                break\n",
    "            elif user_number < random_number:\n",
    "                print(\"-> Your number is less than the random number\")\n",
    "            else:\n",
    "                print(\"-> Your number is greater than the random number\")\n",
    "            chances += 1\n",
    "\n",
    "numberGuessingGame = NumberGuessingGame()\n",
    "numberGuessingGame.start()"
   ]
  }
 ],
 "metadata": {
  "kernelspec": {
   "display_name": "Python 3",
   "language": "python",
   "name": "python3"
  },
  "language_info": {
   "codemirror_mode": {
    "name": "ipython",
    "version": 3
   },
   "file_extension": ".py",
   "mimetype": "text/x-python",
   "name": "python",
   "nbconvert_exporter": "python",
   "pygments_lexer": "ipython3",
   "version": "3.10.0"
  },
  "toc": {
   "base_numbering": 1,
   "nav_menu": {},
   "number_sections": true,
   "sideBar": true,
   "skip_h1_title": false,
   "title_cell": "Table of Contents",
   "title_sidebar": "Contents",
   "toc_cell": false,
   "toc_position": {},
   "toc_section_display": true,
   "toc_window_display": false
  },
  "varInspector": {
   "cols": {
    "lenName": 16,
    "lenType": 16,
    "lenVar": 40
   },
   "kernels_config": {
    "python": {
     "delete_cmd_postfix": "",
     "delete_cmd_prefix": "del ",
     "library": "var_list.py",
     "varRefreshCmd": "print(var_dic_list())"
    },
    "r": {
     "delete_cmd_postfix": ") ",
     "delete_cmd_prefix": "rm(",
     "library": "var_list.r",
     "varRefreshCmd": "cat(var_dic_list()) "
    }
   },
   "types_to_exclude": [
    "module",
    "function",
    "builtin_function_or_method",
    "instance",
    "_Feature"
   ],
   "window_display": false
  }
 },
 "nbformat": 4,
 "nbformat_minor": 5
}
